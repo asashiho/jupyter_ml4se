{
 "cells": [
  {
   "cell_type": "markdown",
   "metadata": {},
   "source": [
    "# 第5章 ロジスティック回帰とROC曲線：学習モデルの評価方法"
   ]
  },
  {
   "cell_type": "markdown",
   "metadata": {},
   "source": [
    "## 「05-logistic_vs_perceptron」の解説"
   ]
  },
  {
   "cell_type": "markdown",
   "metadata": {},
   "source": [
    "ITエンジニアための機械学習理論入門「第5章 ロジスティック回帰とROC曲線:学習モデルの評価方法」で使用しているサンプルコード「05-logistic_vs_perceptron.py」の解説です。\n",
    "\n",
    "※ 解説用にコードの内容は少し変更しています。"
   ]
  },
  {
   "cell_type": "markdown",
   "metadata": {},
   "source": [
    "はじめに必要なモジュールをインポートしておきます。\n",
    "\n",
    "関数 multivariate_normal は、多次元の正規分布に従う乱数を生成するために利用します。"
   ]
  },
  {
   "cell_type": "code",
   "execution_count": 1,
   "metadata": {},
   "outputs": [],
   "source": [
    "import numpy as np\n",
    "import matplotlib.pyplot as plt\n",
    "import pandas as pd\n",
    "from pandas import Series, DataFrame\n",
    "\n",
    "from numpy.random import multivariate_normal"
   ]
  },
  {
   "cell_type": "markdown",
   "metadata": {},
   "source": [
    "トレーニング用データを生成する関数を用意します。\n",
    "\n",
    "平面上の○☓の2種類のデータについて、それぞれの「個数、中心座標、分散」を引数で指定します。"
   ]
  },
  {
   "cell_type": "code",
   "execution_count": 2,
   "metadata": {
    "collapsed": true
   },
   "outputs": [],
   "source": [
    "def prepare_dataset(n1, mu1, variance1, n2, mu2, variance2):\n",
    "    df1 = DataFrame(multivariate_normal(mu1, np.eye(2)*variance1 ,n1),\n",
    "                    columns=['x','y'])\n",
    "    df1['type'] = 1\n",
    "    df2 = DataFrame(multivariate_normal(mu2, np.eye(2)*variance2, n2),\n",
    "                    columns=['x','y'])\n",
    "    df2['type'] = -1\n",
    "    df = pd.concat([df1,df2], ignore_index=True)\n",
    "    df = df.reindex(np.random.permutation(df.index)).reset_index(drop=True)\n",
    "    return df"
   ]
  },
  {
   "cell_type": "markdown",
   "metadata": {},
   "source": [
    "パーセプトロンで分割線を決定する関数を用意します。"
   ]
  },
  {
   "cell_type": "code",
   "execution_count": 3,
   "metadata": {
    "collapsed": true
   },
   "outputs": [],
   "source": [
    "# パーセプトロン\n",
    "def run_perceptron(train_set):\n",
    "    # パラメータの初期値とbias項の設定\n",
    "    w0 = w1 = w2 = 0.0\n",
    "    bias = 0.5 * (train_set.x.abs().mean() + train_set.y.abs().mean())\n",
    "\n",
    "    # Iterationを実施\n",
    "    paramhist = DataFrame([[w0,w1,w2]], columns=['w0','w1','w2'])\n",
    "    for i in range(30):\n",
    "        for index, point in train_set.iterrows():\n",
    "            x, y, type = point.x, point.y, point.type\n",
    "            if type * (w0*bias + w1*x + w2*y) <= 0:\n",
    "                w0 += type * bias\n",
    "                w1 += type * x\n",
    "                w2 += type * y\n",
    "    \n",
    "    # 判定誤差の計算\n",
    "    err = 0.0\n",
    "    for index, point in train_set.iterrows():\n",
    "        x, y, type = point.x, point.y, point.type\n",
    "        if type * (w0*bias + w1*x + w2*y) <= 0:\n",
    "            err += 1\n",
    "    err_rate = err * 100 / len(train_set)\n",
    "    \n",
    "    return w0, w1, w2, err_rate"
   ]
  },
  {
   "cell_type": "markdown",
   "metadata": {},
   "source": [
    "同じく、ロジスティック回帰で分割線を決定する関数を用意します。"
   ]
  },
  {
   "cell_type": "code",
   "execution_count": 4,
   "metadata": {
    "collapsed": true
   },
   "outputs": [],
   "source": [
    "# ロジスティック回帰\n",
    "def run_logistic(train_set):\n",
    "    w = np.array([[0],[0.1],[0.1]])\n",
    "    phi = train_set[['x','y']]\n",
    "    phi['bias'] = 1\n",
    "    phi = phi.as_matrix(columns=['bias','x','y'])\n",
    "    t = (train_set[['type']] + 1)*0.5 # type = 1, -1 を type = 1, 0 に変換\n",
    "    t = t.as_matrix()\n",
    "\n",
    "    # 最大30回のIterationを実施\n",
    "    for i in range(30):\n",
    "        # IRLS法によるパラメータの修正\n",
    "        y = np.array([])\n",
    "        for line in phi:\n",
    "            a = np.dot(line, w)\n",
    "            y = np.append(y, [1.0/(1.0+np.exp(-a))])\n",
    "        r = np.diag(y*(1-y)) \n",
    "        y = y[np.newaxis,:].T\n",
    "        tmp1 = np.linalg.inv(np.dot(np.dot(phi.T, r),phi))\n",
    "        tmp2 = np.dot(phi.T, (y-t))\n",
    "        w_new = w - np.dot(tmp1, tmp2)\n",
    "        # パラメータの変化が 0.1% 未満になったら終了\n",
    "        if np.dot((w_new-w).T, (w_new-w)) < 0.001 * np.dot(w.T, w):\n",
    "            w = w_new\n",
    "            break\n",
    "        w = w_new\n",
    "        \n",
    "    # 分類誤差の計算\n",
    "    w0, w1, w2 = w[0], w[1], w[2]\n",
    "    err = 0.0\n",
    "    for index, point in train_set.iterrows():\n",
    "        x, y, type = point.x, point.y, point.type\n",
    "        type = type * 2 - 1\n",
    "        if type * (w0 + w1*x + w2*y) < 0:\n",
    "            err += 1\n",
    "    err_rate = err * 100 / len(train_set)\n",
    "    \n",
    "    return w0, w1, w2, err_rate"
   ]
  },
  {
   "cell_type": "markdown",
   "metadata": {},
   "source": [
    "結果をグラフに表示する関数を用意します。"
   ]
  },
  {
   "cell_type": "code",
   "execution_count": 5,
   "metadata": {
    "collapsed": true
   },
   "outputs": [],
   "source": [
    "# 結果の表示\n",
    "def show_result(subplot, train_set, w0, w1, w2, err_rate):\n",
    "    train_set1 = train_set[train_set['type']==1]\n",
    "    train_set2 = train_set[train_set['type']==-1]\n",
    "    ymin, ymax = train_set.y.min()-5, train_set.y.max()+10\n",
    "    xmin, xmax = train_set.x.min()-5, train_set.x.max()+10\n",
    "\n",
    "    subplot.set_ylim([ymin-1, ymax+1])\n",
    "    subplot.set_xlim([xmin-1, xmax+1])\n",
    "    subplot.scatter(train_set1.x, train_set1.y, marker='o', label=None)\n",
    "    subplot.scatter(train_set2.x, train_set2.y, marker='x', label=None)\n",
    "\n",
    "    linex = np.arange(xmin-5, xmax+5)\n",
    "    liney = - linex * w1 / w2 - w0 / w2\n",
    "    label = \"ERR %.2f%%\" % err_rate\n",
    "    subplot.plot(linex, liney, label=label, color='red')\n",
    "    subplot.legend(loc=1)"
   ]
  },
  {
   "cell_type": "markdown",
   "metadata": {},
   "source": [
    "トレーニングセットを用意します。"
   ]
  },
  {
   "cell_type": "code",
   "execution_count": 6,
   "metadata": {},
   "outputs": [],
   "source": [
    "train_set = prepare_dataset(20, [15,10], 10, 30, [0,0], 10)"
   ]
  },
  {
   "cell_type": "markdown",
   "metadata": {},
   "source": [
    "パーセプトロンでトレーニングした結果を表示します。"
   ]
  },
  {
   "cell_type": "code",
   "execution_count": 7,
   "metadata": {
    "scrolled": true
   },
   "outputs": [
    {
     "data": {
      "image/png": "[encoded data removed]",
      "text/plain": [
       "<matplotlib.figure.Figure at 0x7ff8eae2ad68>"
      ]
     },
     "metadata": {},
     "output_type": "display_data"
    }
   ],
   "source": [
    "w0, w1, w2, err_rate = run_perceptron(train_set)\n",
    "fig = plt.figure()\n",
    "subplot = fig.add_subplot(1,1,1)\n",
    "bias = 0.5 * (train_set.x.abs().mean() + train_set.y.abs().mean())\n",
    "show_result(subplot, train_set, w0*bias, w1, w2, err_rate)"
   ]
  },
  {
   "cell_type": "markdown",
   "metadata": {},
   "source": [
    "同じトレーニングセットについて、ロジスティック回帰でトレーニングした結果を表示します。"
   ]
  },
  {
   "cell_type": "code",
   "execution_count": 8,
   "metadata": {},
   "outputs": [
    {
     "data": {
      "image/png": "[encoded data removed]",
      "text/plain": [
       "<matplotlib.figure.Figure at 0x7ff8e66e4f60>"
      ]
     },
     "metadata": {},
     "output_type": "display_data"
    }
   ],
   "source": [
    "w0, w1, w2, err_rate = run_logistic(train_set)\n",
    "fig = plt.figure()\n",
    "subplot = fig.add_subplot(1,1,1)\n",
    "show_result(subplot, train_set, w0, w1, w2, err_rate)"
   ]
  }
 ],
 "metadata": {
  "kernelspec": {
   "display_name": "Python 3",
   "language": "python",
   "name": "python3"
  },
  "language_info": {
   "codemirror_mode": {
    "name": "ipython",
    "version": 3
   },
   "file_extension": ".py",
   "mimetype": "text/x-python",
   "name": "python",
   "nbconvert_exporter": "python",
   "pygments_lexer": "ipython3",
   "version": "3.6.2"
  }
 },
 "nbformat": 4,
 "nbformat_minor": 1
}
